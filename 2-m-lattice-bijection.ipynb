{
 "cells": [
  {
   "cell_type": "markdown",
   "id": "7112c9ac-3cb2-4206-90a7-fc3b0e3653b0",
   "metadata": {},
   "source": [
    "# scrap ignore this - scroll to next heading"
   ]
  },
  {
   "cell_type": "code",
   "execution_count": 205,
   "id": "d5feddd9-20b4-4c0c-b925-5b33f7f399c3",
   "metadata": {},
   "outputs": [],
   "source": [
    "from itertools import permutations\n",
    "import numpy as np"
   ]
  },
  {
   "cell_type": "code",
   "execution_count": 206,
   "id": "d111b113-0660-4f15-ab2f-76870da6845b",
   "metadata": {
    "jupyter": {
     "source_hidden": true
    }
   },
   "outputs": [],
   "source": [
    "def find_2m_paths(m,removeCatalans):\n",
    "    length = 2*m-1\n",
    "    string = ''\n",
    "    for i in range(m):\n",
    "        string = string + 'U'\n",
    "    for i in range(m-1):\n",
    "        string = string + 'R'\n",
    "    perms = [\"\".join(p) for p in permutations(string)]\n",
    "    perms = list(set(perms))\n",
    "    perms = [x for x in perms if not x.startswith('R')]\n",
    "    removals = []\n",
    "    for perm in perms:\n",
    "        aboveHalfx = True\n",
    "        aboveOnex = True\n",
    "        UCount = 0\n",
    "        RCount = 0\n",
    "        for i in perm:\n",
    "            if i == 'U':\n",
    "                UCount += 1\n",
    "            else:\n",
    "                RCount += 1\n",
    "            if RCount >= 2*UCount:\n",
    "                aboveHalfx = False\n",
    "            if RCount > UCount:\n",
    "                aboveOnex = False\n",
    "        if aboveHalfx == False:\n",
    "            removals.append(perm)\n",
    "        if removeCatalans == True and aboveHalfx == True and aboveOnex == True:\n",
    "            removals.append(perm)\n",
    "    for perm in removals:\n",
    "        perms.remove(perm)\n",
    "    # i = 1\n",
    "    # for perm in perms:\n",
    "    #     print(f\"{i}: {perm}\")\n",
    "    #     i += 1\n",
    "    return perms"
   ]
  },
  {
   "cell_type": "code",
   "execution_count": 159,
   "id": "55d61c6a-10c4-4bf4-9cc8-294da82df752",
   "metadata": {
    "jupyter": {
     "source_hidden": true
    }
   },
   "outputs": [],
   "source": [
    "def string_to_config(string):\n",
    "    # FAILED BIJECTION IDEA\n",
    "        # m = int(np.ceil(len(string)/2))\n",
    "        # config = np.zeros((2,m))\n",
    "        # i = 1\n",
    "        # newstring = string + 'R'\n",
    "        # for char in newstring:\n",
    "        #     firstNonZeros = (config==0).argmax(axis=1)\n",
    "        #     if char == 'U':\n",
    "        #         # the first zero entry in the first row of config becomes i\n",
    "        #         config[0][firstNonZeros[0]] = i\n",
    "        #     else:\n",
    "        #         # the first nonzero entry in the second row of config becomes i\n",
    "        #         config[1][firstNonZeros[1]] = i\n",
    "        #     i += 1\n",
    "        # return config\n",
    "\n",
    "    \n",
    "    # if (i+1) is {directly below, southwest, or in row 2 with} (i), ith last move should be a 'U'\n",
    "    # if (i+1) is {directly above, northeast, or in row 1 with} (i), ith last move should be an 'R'\n",
    "        # m = int(np.ceil(len(string)/2))\n",
    "        # N = 2*m\n",
    "    return string\n",
    "\n",
    "def run_for_m(m,removeCatalans):\n",
    "    for perm in find_2m_paths(m,removeCatalans):\n",
    "        # print(\" \")\n",
    "        print(string_to_config(perm))"
   ]
  },
  {
   "cell_type": "code",
   "execution_count": 160,
   "id": "235664b0-9582-4808-9e74-65fdff5e544c",
   "metadata": {},
   "outputs": [],
   "source": [
    "# %%time\n",
    "# run_for_m(1,True)"
   ]
  },
  {
   "cell_type": "code",
   "execution_count": 161,
   "id": "1c267964-58ef-4f4f-b052-63692ba6b6b1",
   "metadata": {},
   "outputs": [],
   "source": [
    "# %%time\n",
    "# run_for_m(2,True)"
   ]
  },
  {
   "cell_type": "code",
   "execution_count": 162,
   "id": "ccd7398b-9b42-4fd5-99e9-eadfebed00cc",
   "metadata": {},
   "outputs": [],
   "source": [
    "# %%time\n",
    "# run_for_m(3,True)"
   ]
  },
  {
   "cell_type": "code",
   "execution_count": 163,
   "id": "c1daa2e7-8d8c-42bf-9c1d-6bc5a32d8acc",
   "metadata": {},
   "outputs": [],
   "source": [
    "# %%time\n",
    "# run_for_m(4,True)"
   ]
  },
  {
   "cell_type": "code",
   "execution_count": 164,
   "id": "2d75a5f0-e900-4261-a307-1ed8960ae6fc",
   "metadata": {},
   "outputs": [],
   "source": [
    "# %%time\n",
    "# run_for_m(5,True)"
   ]
  },
  {
   "cell_type": "code",
   "execution_count": 165,
   "id": "6b5dd3e0-c050-4964-adbb-d2f04f8bd361",
   "metadata": {},
   "outputs": [],
   "source": [
    "# %%time\n",
    "# run_for_m(6,True)"
   ]
  },
  {
   "cell_type": "markdown",
   "id": "5146cae9-e322-4961-8484-c3580f626681",
   "metadata": {},
   "source": [
    "# set up the (hopeful) bijection"
   ]
  },
  {
   "cell_type": "code",
   "execution_count": 184,
   "id": "d6760847-c253-4615-b322-d01ab2ad980a",
   "metadata": {},
   "outputs": [],
   "source": [
    "def config_to_path(config):\n",
    "    m = len(config[0])\n",
    "    string = ''\n",
    "    # if (i) is {directly below, southwest, or in row 2 with} (i-1), ith last move should be a 'U'\n",
    "    # if (i) is {directly above, northeast, or in row 1 with} (i-1), ith last move should be an 'R'\n",
    "    prevRow = 0\n",
    "    prevCol = 0\n",
    "    for i in range(2,2*m):\n",
    "        # print(f'i = {i}')\n",
    "        if i in config[0]:\n",
    "            row = 0\n",
    "            col = config[0].index(i)\n",
    "        else:\n",
    "            row = 1\n",
    "            col = config[1].index(i)\n",
    "        # print(f'row: {row}')\n",
    "        # print(f'col: {col}')\n",
    "        if row > prevRow: # below\n",
    "            string = 'U' + string\n",
    "        elif row == 1 and prevRow == 1: # in row 2 with\n",
    "            string = 'U' + string\n",
    "            # print(f'{i} and {i-1} are in row 2 together')\n",
    "        else:\n",
    "            string = 'R' + string\n",
    "            # print(f'{i} is above, northeast of, or in row 1 with {i-1}')\n",
    "        prevRow = row\n",
    "        prevCol = col\n",
    "    string = 'U' + string\n",
    "    return string\n",
    "\n",
    "# print(config_to_path([[1,3,5,6],[2,4,7,8]]))"
   ]
  },
  {
   "cell_type": "markdown",
   "id": "1e7029c4-6ef8-47e4-b8fc-0077eade050b",
   "metadata": {},
   "source": [
    "## set up lists of nonstandard configurations"
   ]
  },
  {
   "cell_type": "code",
   "execution_count": 185,
   "id": "9b5f4d90-f0c0-4ae6-9370-a71ff15ca4ce",
   "metadata": {
    "jupyter": {
     "source_hidden": true
    }
   },
   "outputs": [],
   "source": [
    "twoFourConfigs = [[[1, 4, 5, 6],[2, 3, 7, 8]], \n",
    "[[1, 4, 5, 7],[2, 3, 6, 8]]]\n",
    "\n",
    "twoFiveConfigs = [[[ 1,  2,  6,  7,  8],[ 3,  4,  5,  9, 10]] ,\n",
    "[[ 1,  2,  6,  7,  9],[ 3,  4,  5,  8, 10]] ,\n",
    "[[ 1,  3,  6,  7,  8],[ 2,  4,  5,  9, 10]] ,\n",
    "[[ 1,  3,  6,  7,  9],[ 2,  4,  5,  8, 10]] ,\n",
    "[[ 1,  4,  5,  6,  7],[ 2,  3,  8,  9, 10]] ,\n",
    "[[ 1,  4,  5,  6,  8],[ 2,  3,  7,  9, 10]] ,\n",
    "[[ 1,  4,  5,  6,  9],[ 2,  3,  7,  8, 10]] ,\n",
    "[[ 1,  4,  5,  7,  8],[ 2,  3,  6,  9, 10]] ,\n",
    "[[ 1,  4,  5,  7,  9],[ 2,  3,  6,  8, 10]] ,\n",
    "[[ 1,  4,  6,  7,  8],[ 2,  3,  5,  9, 10]] ,\n",
    "[[ 1,  4,  6,  7,  9],[ 2,  3,  5,  8, 10]] ]\n",
    "\n",
    "twoSixConfigs = [[[ 1,2,3,8,9,10],[ 4,5,6,7,11,12]],\n",
    "[[ 1,2,3,8,9,11],[ 4,5,6,7,10,12]],\n",
    "[[ 1,2,4,8,9,10],[ 3,5,6,7,11,12]],\n",
    "[[ 1,2,4,8,9,11],[ 3,5,6,7,10,12]],\n",
    "[[ 1,2,5,8,9,10],[ 3,4,6,7,11,12]],\n",
    "[[ 1,2,5,8,9,11],[ 3,4,6,7,10,12]],\n",
    "[[ 1,2,6,7,8,10],[ 3,4,5,9,11,12]],\n",
    "[[ 1,2,6,7,8,11],[ 3,4,5,9,10,12]],\n",
    "[[ 1,2,6,7,8,9],[ 3,4,5,10,11,12]],\n",
    "[[ 1,2,6,7,9,10],[ 3,4,5,8,11,12]],\n",
    "[[ 1,2,6,7,9,11],[ 3,4,5,8,10,12]],\n",
    "[[ 1,2,6,8,9,10],[ 3,4,5,7,11,12]],\n",
    "[[ 1,2,6,8,9,11],[ 3,4,5,7,10,12]],\n",
    "[[ 1,3,4,8,9,10],[ 2,5,6,7,11,12]],\n",
    "[[ 1,3,4,8,9,11],[ 2,5,6,7,10,12]],\n",
    "[[ 1,3,5,8,9,10],[ 2,4,6,7,11,12]],\n",
    "[[ 1,3,5,8,9,11],[ 2,4,6,7,10,12]],\n",
    "[[ 1,3,6,7,8,10],[ 2,4,5,9,11,12]],\n",
    "[[ 1,3,6,7,8,11],[ 2,4,5,9,10,12]],\n",
    "[[ 1,3,6,7,8,9],[ 2,4,5,10,11,12]],\n",
    "[[ 1,3,6,7,9,10],[ 2,4,5,8,11,12]],\n",
    "[[ 1,3,6,7,9,11],[ 2,4,5,8,10,12]],\n",
    "[[ 1,3,6,8,9,10],[ 2,4,5,7,11,12]],\n",
    "[[ 1,3,6,8,9,11],[ 2,4,5,7,10,12]],\n",
    "[[ 1,4,5,6,7,10],[ 2,3,8,9,11,12]],\n",
    "[[ 1,4,5,6,7,11],[ 2,3,8,9,10,12]],\n",
    "[[ 1,4,5,6,7,8],[ 2,3,9,10,11,12]],\n",
    "[[ 1,4,5,6,7,9],[ 2,3,8,10,11,12]],\n",
    "[[ 1,4,5,6,8,10],[ 2,3,7,9,11,12]],\n",
    "[[ 1,4,5,6,8,11],[ 2,3,7,9,10,12]],\n",
    "[[ 1,4,5,6,8,9],[ 2,3,7,10,11,12]],\n",
    "[[ 1,4,5,6,9,10],[ 2,3,7,8,11,12]],\n",
    "[[ 1,4,5,6,9,11],[ 2,3,7,8,10,12]],\n",
    "[[ 1,4,5,7,8,10],[ 2,3,6,9,11,12]],\n",
    "[[ 1,4,5,7,8,11],[ 2,3,6,9,10,12]],\n",
    "[[ 1,4,5,7,8,9],[ 2,3,6,10,11,12]],\n",
    "[[ 1,4,5,7,9,10],[ 2,3,6,8,11,12]],\n",
    "[[ 1,4,5,7,9,11],[ 2,3,6,8,10,12]],\n",
    "[[ 1,4,5,8,9,10],[ 2,3,6,7,11,12]],\n",
    "[[ 1,4,5,8,9,11],[ 2,3,6,7,10,12]],\n",
    "[[ 1,4,6,7,8,10],[ 2,3,5,9,11,12]],\n",
    "[[ 1,4,6,7,8,11],[ 2,3,5,9,10,12]],\n",
    "[[ 1,4,6,7,8,9],[ 2,3,5,10,11,12]],\n",
    "[[ 1,4,6,7,9,10],[ 2,3,5,8,11,12]],\n",
    "[[ 1,4,6,7,9,11],[ 2,3,5,8,10,12]],\n",
    "[[ 1,4,6,8,9,10],[ 2,3,5,7,11,12]],\n",
    "[[ 1,4,6,8,9,11],[ 2,3,5,7,10,12]],\n",
    "[[ 1,5,6,7,8,10],[ 2,3,4,9,11,12]],\n",
    "[[ 1,5,6,7,8,11],[ 2,3,4,9,10,12]],\n",
    "[[ 1,5,6,7,8,9],[ 2,3,4,10,11,12]],\n",
    "[[ 1,5,6,7,9,10],[ 2,3,4,8,11,12]],\n",
    "[[ 1,5,6,7,9,11],[ 2,3,4,8,10,12]],\n",
    "[[ 1,5,6,8,9,10],[ 2,3,4,7,11,12]],\n",
    "[[ 1,5,6,8,9,11],[ 2,3,4,7,10,12]]]"
   ]
  },
  {
   "cell_type": "markdown",
   "id": "881911bd-b609-4490-a5ac-efc48616c72e",
   "metadata": {},
   "source": [
    "## turns the configurations into strings using the (hopefully) bijection we set up"
   ]
  },
  {
   "cell_type": "code",
   "execution_count": 186,
   "id": "41c6e12f-ef6d-4154-9f6b-6facdfb5c352",
   "metadata": {},
   "outputs": [
    {
     "name": "stdout",
     "output_type": "stream",
     "text": [
      "CPU times: user 1.1 ms, sys: 406 μs, total: 1.5 ms\n",
      "Wall time: 1.59 ms\n"
     ]
    }
   ],
   "source": [
    "%%time\n",
    "fourConfigs = []\n",
    "i = 1\n",
    "for config in twoFourConfigs:\n",
    "    # print(f\"{i}: {config_to_path(config)}\")\n",
    "    fourConfigs.append(config_to_path(config))\n",
    "    # print(fourConfigs[-1])\n",
    "    i += 1"
   ]
  },
  {
   "cell_type": "code",
   "execution_count": 187,
   "id": "48c05571-d73b-4a96-97e4-48708d028c0e",
   "metadata": {},
   "outputs": [
    {
     "name": "stdout",
     "output_type": "stream",
     "text": [
      "CPU times: user 158 μs, sys: 59 μs, total: 217 μs\n",
      "Wall time: 220 μs\n"
     ]
    }
   ],
   "source": [
    "%%time\n",
    "fiveConfigs = []\n",
    "i = 1\n",
    "for config in twoFiveConfigs:\n",
    "    # print(f\"{i}: {config_to_path(config)}\")\n",
    "    fiveConfigs.append(config_to_path(config))\n",
    "    # print(fiveConfigs[-1])\n",
    "    i += 1"
   ]
  },
  {
   "cell_type": "code",
   "execution_count": 188,
   "id": "b70690cb-a670-46e8-a08f-5fc650e4ffe4",
   "metadata": {},
   "outputs": [
    {
     "name": "stdout",
     "output_type": "stream",
     "text": [
      "CPU times: user 637 μs, sys: 235 μs, total: 872 μs\n",
      "Wall time: 876 μs\n"
     ]
    }
   ],
   "source": [
    "%%time\n",
    "i = 1\n",
    "sixConfigs = []\n",
    "for config in twoSixConfigs:\n",
    "    # print(f\"{i}: {config_to_path(config)}\")\n",
    "    sixConfigs.append(config_to_path(config))\n",
    "    # print(sixConfigs[-1])\n",
    "    i += 1"
   ]
  },
  {
   "cell_type": "markdown",
   "id": "e1e34c2d-876d-4c81-a02c-d0856cca9ad8",
   "metadata": {},
   "source": [
    "## get all the valid UR-paths"
   ]
  },
  {
   "cell_type": "code",
   "execution_count": 189,
   "id": "963a4c15-7600-45cd-accc-531def1971b1",
   "metadata": {},
   "outputs": [
    {
     "name": "stdout",
     "output_type": "stream",
     "text": [
      "CPU times: user 2.59 ms, sys: 0 ns, total: 2.59 ms\n",
      "Wall time: 2.59 ms\n"
     ]
    }
   ],
   "source": [
    "%%time\n",
    "fourPaths = find_2m_paths(4,True)"
   ]
  },
  {
   "cell_type": "code",
   "execution_count": 190,
   "id": "d83b6aca-1db2-4f4c-86c5-6f24c8ce9666",
   "metadata": {},
   "outputs": [
    {
     "name": "stdout",
     "output_type": "stream",
     "text": [
      "CPU times: user 142 ms, sys: 97.1 ms, total: 239 ms\n",
      "Wall time: 237 ms\n"
     ]
    }
   ],
   "source": [
    "%%time\n",
    "fivePaths = find_2m_paths(5,True)"
   ]
  },
  {
   "cell_type": "code",
   "execution_count": 191,
   "id": "86fe9e15-b7e0-47f1-b5cb-72c7f5f04520",
   "metadata": {},
   "outputs": [
    {
     "name": "stdout",
     "output_type": "stream",
     "text": [
      "CPU times: user 11.9 s, sys: 4.44 s, total: 16.4 s\n",
      "Wall time: 17 s\n"
     ]
    }
   ],
   "source": [
    "%%time\n",
    "sixPaths = find_2m_paths(6,True)"
   ]
  },
  {
   "cell_type": "markdown",
   "id": "c62baa3a-246b-4096-a767-37816403d24a",
   "metadata": {},
   "source": [
    "## check if the list of strings coming from nonstandard configurations is the same as the list of UR-paths between y=x/2 and y=x"
   ]
  },
  {
   "cell_type": "code",
   "execution_count": 201,
   "id": "54bd0c17-ac23-4199-a29a-efd651e01015",
   "metadata": {},
   "outputs": [],
   "source": [
    "def find_differences(l1,l2):\n",
    "    print(' ')\n",
    "    print('In list 1 but not 2:')\n",
    "    A = list(set(l1).difference(l2))\n",
    "    if A != []:\n",
    "        for string in A:\n",
    "            print(string)\n",
    "    else:\n",
    "        print('none')\n",
    "    print(' ')\n",
    "    print('In list 2 but not 1:')\n",
    "    B = list(set(l2).difference(l1))\n",
    "    if B != []:\n",
    "        for string in B:\n",
    "            print(string)\n",
    "    else:\n",
    "        print('none')\n",
    "    print(' ')"
   ]
  },
  {
   "cell_type": "code",
   "execution_count": 202,
   "id": "29f19dfb-f38a-4149-bdfc-e0445f8c46b6",
   "metadata": {},
   "outputs": [
    {
     "name": "stdout",
     "output_type": "stream",
     "text": [
      "['UURRRUU', 'URURRUU']\n",
      "['UURRRUU', 'URURRUU']\n",
      " \n",
      "In list 1 but not 2:\n",
      "none\n",
      " \n",
      "In list 2 but not 1:\n",
      "none\n",
      " \n",
      "CPU times: user 321 μs, sys: 118 μs, total: 439 μs\n",
      "Wall time: 484 μs\n"
     ]
    }
   ],
   "source": [
    "%%time\n",
    "print(fourPaths)\n",
    "print(fourConfigs)\n",
    "find_differences(fourPaths,fourConfigs)"
   ]
  },
  {
   "cell_type": "code",
   "execution_count": 203,
   "id": "4a0c07db-dda3-44be-85dd-9385f9c8c221",
   "metadata": {},
   "outputs": [
    {
     "name": "stdout",
     "output_type": "stream",
     "text": [
      "['UURRRUUUR', 'UURURRRUU', 'URURRURUU', 'URURRUURU', 'UURRRURUU', 'UURRURRUU', 'UURRRUURU', 'URURRUUUR', 'URUURRRUU', 'UUURRRRUU', 'URURURRUU']\n",
      "['UURRRUUUR', 'URURRUUUR', 'UURRRUURU', 'URURRUURU', 'UUURRRRUU', 'UURURRRUU', 'URUURRRUU', 'UURRURRUU', 'URURURRUU', 'UURRRURUU', 'URURRURUU']\n",
      " \n",
      "In list 1 but not 2:\n",
      "none\n",
      " \n",
      "In list 2 but not 1:\n",
      "none\n",
      " \n",
      "CPU times: user 306 μs, sys: 113 μs, total: 419 μs\n",
      "Wall time: 446 μs\n"
     ]
    }
   ],
   "source": [
    "%%time\n",
    "print(fivePaths)\n",
    "print(fiveConfigs)\n",
    "find_differences(fivePaths,fiveConfigs)"
   ]
  },
  {
   "cell_type": "code",
   "execution_count": 204,
   "id": "8a9cd802-2548-4fa6-866c-10dc269698e7",
   "metadata": {},
   "outputs": [
    {
     "name": "stdout",
     "output_type": "stream",
     "text": [
      "['UURURURRRUU', 'URURURRRUUU', 'UURRRUURURU', 'UURRURRRUUU', 'UUURRRRUURU', 'UUURRRRRUUU', 'UURUURRRRUU', 'URURRURUURU', 'URURRURRUUU', 'URURURURRUU', 'UURRURRUUUR', 'URURUURRRUU', 'URURURRUURU', 'UURURRRRUUU', 'UUURURRRRUU', 'UURRRURURUU', 'URURRURURUU', 'UUURRRRURUU', 'UUURRURRRUU', 'UURRRURUUUR', 'URUURRRUUUR', 'URURURRUUUR', 'URURRUUURUR', 'URUURURRRUU', 'UURRRUUURRU', 'UUURRRURRUU', 'UURURRRUURU', 'UURRUURRRUU', 'URURRUURUUR', 'URURRUURRUU', 'UUUURRRRRUU', 'UURRRURUURU', 'UURRRURRUUU', 'UURRURRUURU', 'UURURRURRUU', 'URURRUUURRU', 'URUURRRRUUU', 'URURRUURURU', 'UURURRRURUU', 'UURRURURRUU', 'URUURRRUURU', 'UURRRUUURUR', 'UURRRUUUURR', 'UURRURRURUU', 'UURRRUURRUU', 'URURRURUUUR', 'URURRUUUURR', 'UURURRRUUUR', 'UURRRUURUUR', 'URUUURRRRUU', 'URUURRURRUU', 'URURURRURUU', 'URUURRRURUU', 'UUURRRRUUUR']\n",
      "['UURRRUUUURR', 'URURRUUUURR', 'UURRRUUURUR', 'URURRUUURUR', 'UURRRUURUUR', 'URURRUURUUR', 'UURURRRUUUR', 'URUURRRUUUR', 'UUURRRRUUUR', 'UURRURRUUUR', 'URURURRUUUR', 'UURRRURUUUR', 'URURRURUUUR', 'UURRRUUURRU', 'URURRUUURRU', 'UURRRUURURU', 'URURRUURURU', 'UURURRRUURU', 'URUURRRUURU', 'UUURRRRUURU', 'UURRURRUURU', 'URURURRUURU', 'UURRRURUURU', 'URURRURUURU', 'UURUURRRRUU', 'URUUURRRRUU', 'UUUURRRRRUU', 'UUURURRRRUU', 'UURURURRRUU', 'URUURURRRUU', 'UUURRURRRUU', 'UURRUURRRUU', 'URURUURRRUU', 'UURURRURRUU', 'URUURRURRUU', 'UUURRRURRUU', 'UURRURURRUU', 'URURURURRUU', 'UURRRUURRUU', 'URURRUURRUU', 'UURURRRURUU', 'URUURRRURUU', 'UUURRRRURUU', 'UURRURRURUU', 'URURURRURUU', 'UURRRURURUU', 'URURRURURUU', 'UURURRRRUUU', 'URUURRRRUUU', 'UUURRRRRUUU', 'UURRURRRUUU', 'URURURRRUUU', 'UURRRURRUUU', 'URURRURRUUU']\n",
      " \n",
      "In list 1 but not 2:\n",
      "none\n",
      " \n",
      "In list 2 but not 1:\n",
      "none\n",
      " \n",
      "CPU times: user 524 μs, sys: 194 μs, total: 718 μs\n",
      "Wall time: 765 μs\n"
     ]
    }
   ],
   "source": [
    "%%time\n",
    "print(sixPaths)\n",
    "print(sixConfigs)\n",
    "find_differences(sixPaths,sixConfigs)"
   ]
  },
  {
   "cell_type": "code",
   "execution_count": null,
   "id": "31e7e2c1-4f49-4a71-bcc1-ab3c0e2453be",
   "metadata": {},
   "outputs": [],
   "source": []
  }
 ],
 "metadata": {
  "kernelspec": {
   "display_name": "SageMath 10.4",
   "language": "sage",
   "name": "sagemath"
  },
  "language_info": {
   "codemirror_mode": {
    "name": "ipython",
    "version": 3
   },
   "file_extension": ".py",
   "mimetype": "text/x-python",
   "name": "python",
   "nbconvert_exporter": "python",
   "pygments_lexer": "ipython3",
   "version": "3.11.11"
  }
 },
 "nbformat": 4,
 "nbformat_minor": 5
}
